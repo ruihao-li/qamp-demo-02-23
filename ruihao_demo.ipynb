{
 "cells": [
  {
   "cell_type": "markdown",
   "metadata": {
    "slideshow": {
     "slide_type": "subslide"
    }
   },
   "source": [
    "# QAMP-15: Building out Qiskit-QEC with the XP Stabilizer Formalism\n",
    "\n",
    "Members: Dhruv Bhatnagar, __Ruihao Li__\n",
    "\n",
    "Mentors: Grace Harper, Drew Vandeth (IBM)\n",
    "\n",
    "Implementation based on the following work: <br>\n",
    "- M. A. Webster, B. J. Brown, and S. D. Bartlett, The XP Stabiliser Formalism: a Generalisation of the Pauli Stabiliser Formalism with Arbitrary Phases. *Quantum* __6__, 815 (2022).\n",
    "- Mark Webster's [XPFpackage](https://github.com/m-webster/XPFpackage)"
   ]
  },
  {
   "cell_type": "markdown",
   "metadata": {
    "slideshow": {
     "slide_type": "slide"
    }
   },
   "source": [
    "## Setting things up"
   ]
  },
  {
   "cell_type": "code",
   "execution_count": 1,
   "metadata": {
    "slideshow": {
     "slide_type": "slide"
    }
   },
   "outputs": [
    {
     "name": "stdout",
     "output_type": "stream",
     "text": [
      "fatal: destination path '/Users/ruihaoli/qiskit-qec' already exists and is not an empty directory.\n"
     ]
    }
   ],
   "source": [
    "!git clone --branch qamp-qiskit-demodays https://github.com/qiskit-community/qiskit-qec.git /Users/ruihaoli/qiskit-qec"
   ]
  },
  {
   "cell_type": "code",
   "execution_count": 2,
   "metadata": {
    "slideshow": {
     "slide_type": "fragment"
    }
   },
   "outputs": [
    {
     "name": "stdout",
     "output_type": "stream",
     "text": [
      "/Users/ruihaoli/qiskit-qec\n"
     ]
    }
   ],
   "source": [
    "%cd ../qiskit-qec"
   ]
  },
  {
   "cell_type": "code",
   "execution_count": 3,
   "metadata": {
    "scrolled": true,
    "slideshow": {
     "slide_type": "fragment"
    }
   },
   "outputs": [
    {
     "name": "stdout",
     "output_type": "stream",
     "text": [
      "Requirement already satisfied: qiskit-terra>=0.21.2 in /Users/ruihaoli/opt/miniconda3/envs/qiskit/lib/python3.8/site-packages (from -r requirements.txt (line 1)) (0.22.3)\n",
      "Requirement already satisfied: qiskit-aer>=0.11.0 in /Users/ruihaoli/opt/miniconda3/envs/qiskit/lib/python3.8/site-packages (from -r requirements.txt (line 2)) (0.11.2)\n",
      "Requirement already satisfied: pybind11<=2.9.1 in /Users/ruihaoli/opt/miniconda3/envs/qiskit/lib/python3.8/site-packages (from -r requirements.txt (line 3)) (2.9.1)\n",
      "Requirement already satisfied: PyMatching!=2.0.0,>=0.6.0 in /Users/ruihaoli/opt/miniconda3/envs/qiskit/lib/python3.8/site-packages (from -r requirements.txt (line 4)) (2.0.1)\n",
      "Requirement already satisfied: rustworkx>=0.11.0 in /Users/ruihaoli/opt/miniconda3/envs/qiskit/lib/python3.8/site-packages (from -r requirements.txt (line 5)) (0.12.1)\n",
      "Requirement already satisfied: networkx>=2.6.3 in /Users/ruihaoli/opt/miniconda3/envs/qiskit/lib/python3.8/site-packages (from -r requirements.txt (line 6)) (2.8.8)\n",
      "Requirement already satisfied: sympy>=1.9 in /Users/ruihaoli/opt/miniconda3/envs/qiskit/lib/python3.8/site-packages (from -r requirements.txt (line 7)) (1.11.1)\n",
      "Requirement already satisfied: numpy>=1.21.0 in /Users/ruihaoli/opt/miniconda3/envs/qiskit/lib/python3.8/site-packages (from -r requirements.txt (line 8)) (1.23.5)\n",
      "Requirement already satisfied: symengine>=0.9 in /Users/ruihaoli/opt/miniconda3/envs/qiskit/lib/python3.8/site-packages (from qiskit-terra>=0.21.2->-r requirements.txt (line 1)) (0.9.2)\n",
      "Requirement already satisfied: stevedore>=3.0.0 in /Users/ruihaoli/opt/miniconda3/envs/qiskit/lib/python3.8/site-packages (from qiskit-terra>=0.21.2->-r requirements.txt (line 1)) (4.1.1)\n",
      "Requirement already satisfied: ply>=3.10 in /Users/ruihaoli/opt/miniconda3/envs/qiskit/lib/python3.8/site-packages (from qiskit-terra>=0.21.2->-r requirements.txt (line 1)) (3.11)\n",
      "Requirement already satisfied: scipy>=1.5 in /Users/ruihaoli/opt/miniconda3/envs/qiskit/lib/python3.8/site-packages (from qiskit-terra>=0.21.2->-r requirements.txt (line 1)) (1.9.3)\n",
      "Requirement already satisfied: dill>=0.3 in /Users/ruihaoli/opt/miniconda3/envs/qiskit/lib/python3.8/site-packages (from qiskit-terra>=0.21.2->-r requirements.txt (line 1)) (0.3.6)\n",
      "Requirement already satisfied: python-dateutil>=2.8.0 in /Users/ruihaoli/opt/miniconda3/envs/qiskit/lib/python3.8/site-packages (from qiskit-terra>=0.21.2->-r requirements.txt (line 1)) (2.8.2)\n",
      "Requirement already satisfied: psutil>=5 in /Users/ruihaoli/opt/miniconda3/envs/qiskit/lib/python3.8/site-packages (from qiskit-terra>=0.21.2->-r requirements.txt (line 1)) (5.9.4)\n",
      "Requirement already satisfied: retworkx>=0.11.0 in /Users/ruihaoli/opt/miniconda3/envs/qiskit/lib/python3.8/site-packages (from qiskit-terra>=0.21.2->-r requirements.txt (line 1)) (0.12.1)\n",
      "Requirement already satisfied: matplotlib in /Users/ruihaoli/opt/miniconda3/envs/qiskit/lib/python3.8/site-packages (from PyMatching!=2.0.0,>=0.6.0->-r requirements.txt (line 4)) (3.6.2)\n",
      "Requirement already satisfied: mpmath>=0.19 in /Users/ruihaoli/opt/miniconda3/envs/qiskit/lib/python3.8/site-packages (from sympy>=1.9->-r requirements.txt (line 7)) (1.2.1)\n",
      "Requirement already satisfied: six>=1.5 in /Users/ruihaoli/opt/miniconda3/envs/qiskit/lib/python3.8/site-packages (from python-dateutil>=2.8.0->qiskit-terra>=0.21.2->-r requirements.txt (line 1)) (1.16.0)\n",
      "Requirement already satisfied: pbr!=2.1.0,>=2.0.0 in /Users/ruihaoli/opt/miniconda3/envs/qiskit/lib/python3.8/site-packages (from stevedore>=3.0.0->qiskit-terra>=0.21.2->-r requirements.txt (line 1)) (5.11.0)\n",
      "Requirement already satisfied: kiwisolver>=1.0.1 in /Users/ruihaoli/opt/miniconda3/envs/qiskit/lib/python3.8/site-packages (from matplotlib->PyMatching!=2.0.0,>=0.6.0->-r requirements.txt (line 4)) (1.4.4)\n",
      "Requirement already satisfied: pillow>=6.2.0 in /Users/ruihaoli/opt/miniconda3/envs/qiskit/lib/python3.8/site-packages (from matplotlib->PyMatching!=2.0.0,>=0.6.0->-r requirements.txt (line 4)) (9.3.0)\n",
      "Requirement already satisfied: contourpy>=1.0.1 in /Users/ruihaoli/opt/miniconda3/envs/qiskit/lib/python3.8/site-packages (from matplotlib->PyMatching!=2.0.0,>=0.6.0->-r requirements.txt (line 4)) (1.0.6)\n",
      "Requirement already satisfied: pyparsing>=2.2.1 in /Users/ruihaoli/opt/miniconda3/envs/qiskit/lib/python3.8/site-packages (from matplotlib->PyMatching!=2.0.0,>=0.6.0->-r requirements.txt (line 4)) (3.0.9)\n",
      "Requirement already satisfied: fonttools>=4.22.0 in /Users/ruihaoli/opt/miniconda3/envs/qiskit/lib/python3.8/site-packages (from matplotlib->PyMatching!=2.0.0,>=0.6.0->-r requirements.txt (line 4)) (4.38.0)\n",
      "Requirement already satisfied: packaging>=20.0 in /Users/ruihaoli/opt/miniconda3/envs/qiskit/lib/python3.8/site-packages (from matplotlib->PyMatching!=2.0.0,>=0.6.0->-r requirements.txt (line 4)) (21.3)\n",
      "Requirement already satisfied: cycler>=0.10 in /Users/ruihaoli/opt/miniconda3/envs/qiskit/lib/python3.8/site-packages (from matplotlib->PyMatching!=2.0.0,>=0.6.0->-r requirements.txt (line 4)) (0.11.0)\n"
     ]
    }
   ],
   "source": [
    "!pip install -r requirements.txt"
   ]
  },
  {
   "cell_type": "markdown",
   "metadata": {
    "slideshow": {
     "slide_type": "slide"
    }
   },
   "source": [
    "This talk will consist of two parts:\n",
    "\n",
    "- XP operator algebra\n",
    "- Linear algebra modulo $N$ and the Howell matrix form"
   ]
  },
  {
   "cell_type": "markdown",
   "metadata": {
    "slideshow": {
     "slide_type": "slide"
    }
   },
   "source": [
    "## XP Operator Algebra\n"
   ]
  },
  {
   "cell_type": "markdown",
   "metadata": {
    "slideshow": {
     "slide_type": "fragment"
    }
   },
   "source": [
    "The XP operator algebra is a fundamental building block of the XP stabilizer formalism. Here we show how to express algebraic operations in terms of the vector representation and the generalized symplectic product. These concepts allow us to determine the eigenvalues and actions of the projectors of XP operators."
   ]
  },
  {
   "cell_type": "markdown",
   "metadata": {
    "slideshow": {
     "slide_type": "slide"
    }
   },
   "source": [
    "In the Pauli stabilizer formalism, one represents operators with the _symplectic representation_, i.e., with binary/boolean vectors $(\\mathbf{x}, \\mathbf{z})$ and a boolean phase $p$. Such representation is naturally generalized in the XP formalism.\n",
    "\n",
    "Let $\\mathbf{u} = (p | \\mathbf{x} | \\mathbf{z}) \\in \\mathbb Z\\times \\mathbb Z^n\\times \\mathbb Z^n$ be an integer vector of length $2n+1$. Recall that the XP operator of precision $N$ corresponding to $\\mathbf{u}$ is defined as\n",
    "$$\n",
    "XP_N(\\mathbf{u}) = \\omega^p \\bigotimes_{0\\leq i < n} X^{\\mathbf{x}_i} P^{\\mathbf{z}_i},\n",
    "$$\n",
    "where\n",
    "$$\n",
    "\\begin{split}\n",
    "\\omega &= \\exp\\left(\\frac{\\pi i}{N}\\right), \\\\\n",
    "P &= \\text{diag}(1, \\omega^2). \\\\\n",
    "\\end{split}\n",
    "$$\n",
    "Note that each component is periodic such that\n",
    "$$\n",
    "XP_N(p | \\mathbf{x} | \\mathbf{z}) = XP_N(p\\ \\text{mod}\\ 2N | \\mathbf{x}\\ \\text{mod}\\ 2 | \\mathbf{z}\\ \\text{mod}\\ N).\n",
    "$$\n",
    "Therfore, we can define a __unique vector representation__ $(p | \\mathbf{x} | \\mathbf{z}) \\in \\mathbb Z_{2N}\\times \\mathbb Z^n_{2}\\times \\mathbb Z^n_N$ for each XP operator."
   ]
  },
  {
   "cell_type": "code",
   "execution_count": 4,
   "metadata": {
    "slideshow": {
     "slide_type": "slide"
    }
   },
   "outputs": [],
   "source": [
    "import numpy as np\n",
    "from qiskit_qec.operators.xp_pauli import XPPauli\n",
    "from qiskit_qec.operators.xp_pauli_list import XPPauliList"
   ]
  },
  {
   "cell_type": "code",
   "execution_count": 5,
   "metadata": {
    "slideshow": {
     "slide_type": "fragment"
    }
   },
   "outputs": [
    {
     "name": "stdout",
     "output_type": "stream",
     "text": [
      "[[0 1 1 2 0 3]]\n",
      "[0 1 1]\n",
      "[2 0 3]\n",
      "[3]\n"
     ]
    }
   ],
   "source": [
    "# XPPauli object\n",
    "a = XPPauli(\n",
    "    data=np.array([0, 3, 1, 6, 4, 3], dtype=np.int64), phase_exp=11, precision=4\n",
    ")\n",
    "unique_a = a.unique_vector_rep()\n",
    "print(unique_a.matrix)\n",
    "print(unique_a.x)\n",
    "print(unique_a.z)\n",
    "print(unique_a._phase_exp)"
   ]
  },
  {
   "cell_type": "code",
   "execution_count": 6,
   "metadata": {
    "slideshow": {
     "slide_type": "fragment"
    }
   },
   "outputs": [
    {
     "name": "stdout",
     "output_type": "stream",
     "text": [
      "[[1 0 1 1 5 3 5 4]\n",
      " [1 0 1 0 1 5 2 0]]\n",
      "[4 7]\n"
     ]
    }
   ],
   "source": [
    "# XPPauliList object\n",
    "b = XPPauliList(\n",
    "    data=np.array([[1, 0, 1, 1, 5, 3, 5, 4], [1, 0, 1, 0, 1, 5, 2, 0]], dtype=np.int64),\n",
    "    phase_exp=np.array([4, 7]),\n",
    "    precision=6,\n",
    ")\n",
    "unique_b = b.unique_vector_rep()\n",
    "print(unique_b.matrix)\n",
    "print(unique_b._phase_exp)"
   ]
  },
  {
   "cell_type": "markdown",
   "metadata": {
    "slideshow": {
     "slide_type": "slide"
    }
   },
   "source": [
    "When possible, we can also rescale the vector representation of an XP operator to one with a different precision $N'$. For example, for $XP_8(12|1110000|0040000)$, since the phase and $Z$ components are divisible by 4, we can rescale it to a precision-2 operator:\n",
    "$$\n",
    "XP_8(12|1110000|0040000) = XP_2(3|1110000|0010000).\n",
    "$$"
   ]
  },
  {
   "cell_type": "code",
   "execution_count": 7,
   "metadata": {
    "slideshow": {
     "slide_type": "fragment"
    }
   },
   "outputs": [
    {
     "name": "stdout",
     "output_type": "stream",
     "text": [
      "[[1 1 1 0 0 0 0 0 0 1 0 0 0 0]]\n",
      "[3]\n"
     ]
    }
   ],
   "source": [
    "a = XPPauli(\n",
    "    data=np.array([1, 1, 1, 0, 0, 0, 0, 0, 0, 4, 0, 0, 0, 0]), phase_exp=12, precision=8\n",
    ")\n",
    "rescaled_a = a.rescale_precision(new_precision=2, inplace=False)\n",
    "print(rescaled_a.matrix)\n",
    "print(rescaled_a._phase_exp)"
   ]
  },
  {
   "cell_type": "code",
   "execution_count": 8,
   "metadata": {
    "slideshow": {
     "slide_type": "subslide"
    }
   },
   "outputs": [
    {
     "ename": "QiskitError",
     "evalue": "'XP Operator cannot be expressed in new_precision.'",
     "output_type": "error",
     "traceback": [
      "\u001b[0;31m---------------------------------------------------------------------------\u001b[0m",
      "\u001b[0;31mQiskitError\u001b[0m                               Traceback (most recent call last)",
      "Cell \u001b[0;32mIn[8], line 2\u001b[0m\n\u001b[1;32m      1\u001b[0m \u001b[39m# Case where it is not possible to rescale\u001b[39;00m\n\u001b[0;32m----> 2\u001b[0m a\u001b[39m.\u001b[39;49mrescale_precision(new_precision\u001b[39m=\u001b[39;49m\u001b[39m3\u001b[39;49m, inplace\u001b[39m=\u001b[39;49m\u001b[39mFalse\u001b[39;49;00m)\n",
      "File \u001b[0;32m~/qiskit-qec/qiskit_qec/operators/xp_pauli.py:267\u001b[0m, in \u001b[0;36mXPPauli.rescale_precision\u001b[0;34m(self, new_precision, inplace)\u001b[0m\n\u001b[1;32m    232\u001b[0m \u001b[39mdef\u001b[39;00m \u001b[39mrescale_precision\u001b[39m(\u001b[39mself\u001b[39m, new_precision: \u001b[39mint\u001b[39m, inplace: \u001b[39mbool\u001b[39m \u001b[39m=\u001b[39m \u001b[39mFalse\u001b[39;00m) \u001b[39m-\u001b[39m\u001b[39m>\u001b[39m \u001b[39m\"\u001b[39m\u001b[39mXPPauli\u001b[39m\u001b[39m\"\u001b[39m:\n\u001b[1;32m    233\u001b[0m     \u001b[39m\"\"\"Rescale the generalized symplectic vector components\u001b[39;00m\n\u001b[1;32m    234\u001b[0m \u001b[39m    of XPPauli operator to the new precision. Returns the rescaled XPPauli object.\u001b[39;00m\n\u001b[1;32m    235\u001b[0m \n\u001b[0;32m   (...)\u001b[0m\n\u001b[1;32m    265\u001b[0m \u001b[39m        _rescale_precision\u001b[39;00m\n\u001b[1;32m    266\u001b[0m \u001b[39m    \"\"\"\u001b[39;00m\n\u001b[0;32m--> 267\u001b[0m     \u001b[39mreturn\u001b[39;00m XPPauli(\u001b[39msuper\u001b[39;49m()\u001b[39m.\u001b[39;49mrescale_precision(new_precision, inplace))\n",
      "File \u001b[0;32m~/qiskit-qec/qiskit_qec/operators/base_xp_pauli.py:796\u001b[0m, in \u001b[0;36mBaseXPPauli.rescale_precision\u001b[0;34m(self, new_precision, inplace)\u001b[0m\n\u001b[1;32m    790\u001b[0m     \u001b[39mraise\u001b[39;00m QiskitError(\u001b[39m\"\u001b[39m\u001b[39mXP Operator cannot be expressed in new_precision.\u001b[39m\u001b[39m\"\u001b[39m)\n\u001b[1;32m    791\u001b[0m \u001b[39mif\u001b[39;00m (new_precision \u001b[39m<\u001b[39m old_precision) \u001b[39mand\u001b[39;00m (\n\u001b[1;32m    792\u001b[0m     (old_precision \u001b[39m%\u001b[39m new_precision \u001b[39m>\u001b[39m \u001b[39m0\u001b[39m)\n\u001b[1;32m    793\u001b[0m     \u001b[39mor\u001b[39;00m (np\u001b[39m.\u001b[39msum(np\u001b[39m.\u001b[39mmod(unique_xp_op\u001b[39m.\u001b[39m_phase_exp, scale_factor)) \u001b[39m>\u001b[39m \u001b[39m0\u001b[39m)\n\u001b[1;32m    794\u001b[0m     \u001b[39mor\u001b[39;00m (np\u001b[39m.\u001b[39msum(np\u001b[39m.\u001b[39mmod(unique_xp_op\u001b[39m.\u001b[39mz, scale_factor)) \u001b[39m>\u001b[39m \u001b[39m0\u001b[39m)\n\u001b[1;32m    795\u001b[0m ):\n\u001b[0;32m--> 796\u001b[0m     \u001b[39mraise\u001b[39;00m QiskitError(\u001b[39m\"\u001b[39m\u001b[39mXP Operator cannot be expressed in new_precision.\u001b[39m\u001b[39m\"\u001b[39m)\n\u001b[1;32m    798\u001b[0m \u001b[39mreturn\u001b[39;00m \u001b[39mself\u001b[39m\u001b[39m.\u001b[39m_rescale_precision(new_precision, inplace)\n",
      "\u001b[0;31mQiskitError\u001b[0m: 'XP Operator cannot be expressed in new_precision.'"
     ]
    }
   ],
   "source": [
    "# Case where it is not possible to rescale\n",
    "a.rescale_precision(new_precision=3, inplace=False)"
   ]
  },
  {
   "cell_type": "markdown",
   "metadata": {
    "slideshow": {
     "slide_type": "slide"
    }
   },
   "source": [
    "Many of the algebraic operations within the XP formalism relies on the __antisymmetric operator__ of precision $N$ corresponding to a vector $\\mathbf{z}\\in \\mathbb Z^n$:\n",
    "$$\n",
    "D_{N}(\\mathbf{z}) = XP_N(\\sum_i \\mathbf{z}_i | \\mathbf{0} | -\\mathbf{z}).\n",
    "$$"
   ]
  },
  {
   "cell_type": "code",
   "execution_count": 9,
   "metadata": {
    "slideshow": {
     "slide_type": "fragment"
    }
   },
   "outputs": [
    {
     "name": "stdout",
     "output_type": "stream",
     "text": [
      "[[ 0  0  0  0 -1 -2 -3 -3]]\n",
      "[9]\n"
     ]
    }
   ],
   "source": [
    "a = XPPauli(data=np.array([1, 1, 2, 2, 1, 2, 3, 3]), phase_exp=0, precision=8)\n",
    "antisym_op = a.antisymmetric_op(int_vec=a.z)\n",
    "print(antisym_op.matrix)\n",
    "print(antisym_op._phase_exp)"
   ]
  },
  {
   "cell_type": "markdown",
   "metadata": {
    "slideshow": {
     "slide_type": "slide"
    }
   },
   "source": [
    "For example, the product of two XP operators in vector form is given by\n",
    "$$\n",
    "XP_N(\\mathbf{u}_1) XP_N(\\mathbf{u}_2) = XP_N(\\mathbf{u}_1 + \\mathbf{u}_2) D_N(2\\mathbf{u}_1 \\mathbf{u}_2),\n",
    "$$\n",
    "where in this notation the arithmetic operations on vectors are component-wise in $\\mathbb Z$, i.e.,\n",
    "$$\n",
    "\\begin{split}\n",
    "(\\mathbf a + \\mathbf b)[i] &= \\mathbf a[i] + \\mathbf b[i], \\\\\n",
    "(\\mathbf a \\mathbf b)[i] &= \\mathbf a[i] \\mathbf b[i].\n",
    "\\end{split}\n",
    "$$\n",
    "\n",
    "In Qiskit-QEC, the multiplication operation is called `compose`."
   ]
  },
  {
   "cell_type": "code",
   "execution_count": 10,
   "metadata": {
    "slideshow": {
     "slide_type": "fragment"
    }
   },
   "outputs": [
    {
     "name": "stdout",
     "output_type": "stream",
     "text": [
      "[[1 0 1 3 3 0]]\n",
      "[6]\n"
     ]
    }
   ],
   "source": [
    "a = XPPauli(data=np.array([0, 1, 0, 0, 2, 0]), phase_exp=6, precision=4)\n",
    "b = XPPauli(data=np.array([1, 1, 1, 3, 3, 0]), phase_exp=2, precision=4)\n",
    "product = a.compose(b, inplace=False)\n",
    "print(product.matrix)\n",
    "print(product._phase_exp)"
   ]
  },
  {
   "cell_type": "code",
   "execution_count": 11,
   "metadata": {
    "slideshow": {
     "slide_type": "subslide"
    }
   },
   "outputs": [
    {
     "name": "stdout",
     "output_type": "stream",
     "text": [
      "[[0 0 1 0 1 4 5 3]\n",
      " [1 1 0 0 0 2 2 5]]\n",
      "[ 1 11]\n"
     ]
    }
   ],
   "source": [
    "# Multiplying two XPPauliList objects\n",
    "a = XPPauliList(\n",
    "    data=np.array([[1, 0, 1, 1, 5, 3, 5, 4], [1, 0, 1, 0, 1, 5, 2, 0]]),\n",
    "    phase_exp=np.array([4, 7]),\n",
    "    precision=6,\n",
    ")\n",
    "b = XPPauliList(\n",
    "    data=np.array([[1, 0, 0, 1, 4, 1, 0, 1], [0, 1, 1, 0, 1, 3, 0, 5]]),\n",
    "    phase_exp=np.array([11, 2]),\n",
    "    precision=6,\n",
    ")\n",
    "product = a.compose(b, inplace=False)\n",
    "print(product.matrix)\n",
    "print(product._phase_exp)"
   ]
  },
  {
   "cell_type": "markdown",
   "metadata": {
    "slideshow": {
     "slide_type": "slide"
    }
   },
   "source": [
    "The closed form expressions for various other algebraic operations are given in Table 4 of the original paper, which is attached below:\n",
    "\n",
    "<div align=\"center\">\n",
    "<img src=\"img/xp_algebra_tab.png\" width=\"800\"/>\n",
    "</div>"
   ]
  },
  {
   "cell_type": "markdown",
   "metadata": {
    "slideshow": {
     "slide_type": "subslide"
    }
   },
   "source": [
    "Below is the correspondence between these operations and the Qiskit-QEC methods:\n",
    "- MUL: `compose`\n",
    "- POW: `power` (note that SQ is a special case of POW)\n",
    "- INV: `inverse`\n",
    "- CONJ: `conjugate`\n",
    "- COMM: `commutator`"
   ]
  },
  {
   "cell_type": "code",
   "execution_count": 12,
   "metadata": {
    "slideshow": {
     "slide_type": "slide"
    }
   },
   "outputs": [
    {
     "name": "stdout",
     "output_type": "stream",
     "text": [
      "[[1 0 1 1 5 3 5 4]\n",
      " [1 0 1 1 5 2 1 5]]\n",
      "[1 6] \n",
      "\n",
      "[[1 0 1 1 5 3 5 4]\n",
      " [0 0 0 0 0 4 0 0]]\n",
      "[7 4]\n"
     ]
    }
   ],
   "source": [
    "a = XPPauliList(\n",
    "    data=np.array([[1, 0, 1, 1, 5, 3, 5, 4], [1, 0, 1, 1, 5, 4, 1, 5]]),\n",
    "    phase_exp=[1, 2],\n",
    "    precision=6,\n",
    ")\n",
    "a1 = a.power(n=5)\n",
    "print(a1.matrix)\n",
    "print(a1._phase_exp, \"\\n\")\n",
    "\n",
    "a2 = a.power(n=[3, 4])\n",
    "print(a2.matrix)\n",
    "print(a2._phase_exp)"
   ]
  },
  {
   "cell_type": "markdown",
   "metadata": {
    "slideshow": {
     "slide_type": "subslide"
    }
   },
   "source": [
    "There are also other methods we implemented, such as `weight`, `degree`, `fundamental_phase`, etc., which would be useful for identifying the codespace and measurements in the XP formalism (not implemented). I won't go into details here."
   ]
  },
  {
   "cell_type": "markdown",
   "metadata": {
    "slideshow": {
     "slide_type": "slide"
    }
   },
   "source": [
    "## Linear Algebra Modulo $N$"
   ]
  },
  {
   "cell_type": "markdown",
   "metadata": {
    "slideshow": {
     "slide_type": "fragment"
    }
   },
   "source": [
    "As can be seen from the periodic nature of the XP operators, we are working with vectors over $\\mathbb Z_N$, which is a __ring__ in general rather than a field. To find codewords and logical operators etc. in the XP formalism, we need to apply linear algebra techniques over rings, i.e., modulo $N$. So we first need to implement basic arithmetics over $\\mathbb Z_N$."
   ]
  },
  {
   "cell_type": "markdown",
   "metadata": {
    "slideshow": {
     "slide_type": "subslide"
    }
   },
   "source": [
    "A full list of the arithmetic operations implemented includes:\n",
    "- `quo`: Quotient of $a/b$ in $\\mathbb Z_N$.\n",
    "- `div`: Divisor of $a$ & $b$ in $\\mathbb Z_N$ - $d\\in \\mathbb Z_N$ such that $(b  d)\\ \\text{mod}\\ N  = a\\ \\text{mod}\\ N$.\n",
    "- `ann`: Annihilator of $a$ in $\\mathbb Z_N$ - $b\\in \\mathbb Z_N$ such that $(a b)\\ \\text{mod}\\ N  = 0$.\n",
    "- `stab`: Stabilizer of $a$ & $b$ in $\\mathbb Z_N$ - $c\\in \\mathbb Z_N$ such that $\\text{GCD}_{\\mathbb Z_N}(a+b c, N) = \\text{GCD}_{\\mathbb Z_N}(a, b, N)$.\n",
    "- `unit`: Unit of $a$ in $\\mathbb Z_N$ - $u\\in \\mathbb Z_N$ such that $(a u)\\ \\text{mod}\\ N  = \\text{GCD}_{\\mathbb Z_N}(a, N)$.\n",
    "- `gcd_ext`: Extended Euclidean algorithm for finding the GCD of $a$ & $b$ in $\\mathbb Z_N$ and the corresponding coefficients (explained in detail below)."
   ]
  },
  {
   "cell_type": "code",
   "execution_count": 13,
   "metadata": {
    "slideshow": {
     "slide_type": "slide"
    }
   },
   "outputs": [],
   "source": [
    "import qiskit_qec.arithmetic.modn as modn"
   ]
  },
  {
   "cell_type": "code",
   "execution_count": 14,
   "metadata": {
    "slideshow": {
     "slide_type": "fragment"
    }
   },
   "outputs": [
    {
     "name": "stdout",
     "output_type": "stream",
     "text": [
      "1\n",
      "True\n"
     ]
    }
   ],
   "source": [
    "# Quotient of a/b in the ring Z_N\n",
    "a, b, N = 18, 3, 5\n",
    "q = modn.quo(a, b, N)\n",
    "print(q)\n",
    "print(q == (a % N) // (b % N))"
   ]
  },
  {
   "cell_type": "code",
   "execution_count": 15,
   "metadata": {
    "slideshow": {
     "slide_type": "fragment"
    }
   },
   "outputs": [
    {
     "name": "stdout",
     "output_type": "stream",
     "text": [
      "3\n",
      "True\n"
     ]
    }
   ],
   "source": [
    "# Divisor of a/b in the ring Z_N\n",
    "a, b, N = 24, 8, 7\n",
    "d = modn.div(a, b, N)\n",
    "print(d)\n",
    "print((b * d) % N == a % N)"
   ]
  },
  {
   "cell_type": "code",
   "execution_count": 16,
   "metadata": {
    "slideshow": {
     "slide_type": "fragment"
    }
   },
   "outputs": [
    {
     "name": "stdout",
     "output_type": "stream",
     "text": [
      "1\n",
      "True\n"
     ]
    }
   ],
   "source": [
    "# Annihilator of a in the ring Z/nZ\n",
    "a, N = 10, 5\n",
    "ann = modn.ann(a, N)\n",
    "print(ann)\n",
    "print((a * ann) % N == 0)"
   ]
  },
  {
   "cell_type": "markdown",
   "metadata": {
    "slideshow": {
     "slide_type": "slide"
    }
   },
   "source": [
    "An important arithmetic operation is the extended Euclidean algorithm for finding the __greatest common divisor__ (GCD) of two integers $a$ and $b$ in $\\mathbb Z_N$. For any $a, b\\in \\mathbb Z_N$, the `gcd_ext` function outputs the tuple $(g, s, t, u, v)$ which satisfies the following properties:\n",
    "- $g = \\text{GCD}_{\\mathbb Z_N}(a, b, N) = (sa + tb)\\ \\text{mod}\\ N$\n",
    "- $(ua + vb)\\ \\text{mod}\\ N = 0$\n",
    "- $(sv - tu)\\ \\text{mod}\\ N = 1$\n",
    "\n",
    "Note that $s$ & $t$ are sometimes called the Bézout coefficients."
   ]
  },
  {
   "cell_type": "markdown",
   "metadata": {
    "slideshow": {
     "slide_type": "slide"
    }
   },
   "source": [
    "Next, we are ready to implement the algorithm for calculating the __Howell form__ of a matrix $A$ over $\\mathbb Z_N$. The Howell matrix form is a generalization of the Reduced Row Echelon Form (RREF) which gives us a canonical basis for the row span of a matrix over a ring. This is needed for determining the codespaces in the XP formalism."
   ]
  },
  {
   "cell_type": "markdown",
   "metadata": {
    "slideshow": {
     "slide_type": "subslide"
    }
   },
   "source": [
    "Below is the algorithm for calculating the Howell matrix form:"
   ]
  },
  {
   "cell_type": "markdown",
   "metadata": {
    "slideshow": {
     "slide_type": "subslide"
    }
   },
   "source": [
    "1. Set the row index $r=0$ and column index $c=0$\n",
    "2. Determine if there exists some $A[j,c]> 0$ for $j \\ge r$. If such a $j$ exists:\n",
    "    - Ensure that $A[r,c] > 0$ by performing the SWAP row operation $\\begin{pmatrix}A[r]\\\\A[j]\\end{pmatrix} := \\begin{pmatrix}0&1\\\\1&0\\end{pmatrix}\\begin{pmatrix}A[r]\\\\A[j]\\end{pmatrix}$ if necessary \n",
    "    - Eliminate any entries below $A[r,c]$ by doing the following. For each $j > r$ with $A[j,c] > 0$, let $(g,s,t,u,v) = \\text{Gcdex}(A[r,c],A[j,c],N)$. Perform the row operation $\\begin{pmatrix}A[r]\\\\A[j]\\end{pmatrix} := \\begin{pmatrix}s&t\\\\u&v\\end{pmatrix}\\begin{pmatrix}A[r]\\\\A[j]\\end{pmatrix}$. This ensures that $A[r,c] = g$ where $g = \\text{GCD}_{\\mathbb{Z}_N}(A[r,c],A[j,c])$ and $A[j,c] = 0$. This operation is span-preserving because $sv-tu = 1$.\n",
    "    - Ensure that $A[r,c]$ is a minimal representative by finding a unit $u$ such that $uA[r,c]= \\text{GCD}_{\\mathbb{Z}_N}(A[r,c],N)$. Perform the row operation $A[r] := u A[r]$.\n",
    "    - Ensure that $A[j,c] < A[r,c]$ for $j < r$ by determining $s = A[j,c] // A[r,c]$ (ie integer division). Perform the row operation $\\begin{pmatrix}A[r]\\\\A[j]\\end{pmatrix} := \\begin{pmatrix}1&0\\\\-s&1\\end{pmatrix}\\begin{pmatrix}A[r]\\\\A[j]\\end{pmatrix}$.\n",
    "    - If $A[r,c]$ is a zero divisor, find the annihilator $a$ such that $a A[r,c]= 0$ and perform the row operation $A.\\text{append}(aA[r])$ to append a new row. This ensures that the Howell property holds\n",
    "    - Increment $r$ - halt if the number of rows in $A$ is equal to $r$\n",
    "3. Increment $c$ - halt if the number of columns in $A$ is equal to $c$"
   ]
  },
  {
   "cell_type": "markdown",
   "metadata": {
    "slideshow": {
     "slide_type": "slide"
    }
   },
   "source": [
    "Essentially, the above algorithm relies on a set of span-preserving row operations, which we have implemented within the `do_row_op` function in `qiskit_qec.linear.matrix`. The row operation options include `'swap'`, `'unit'`, `'add'`, `'append'`, and `'update'`."
   ]
  },
  {
   "cell_type": "code",
   "execution_count": 17,
   "metadata": {
    "slideshow": {
     "slide_type": "fragment"
    }
   },
   "outputs": [
    {
     "name": "stdout",
     "output_type": "stream",
     "text": [
      "[[1 2 3]\n",
      " [4 5 6]\n",
      " [7 8 9]] \n",
      "\n",
      "[[4 5 6]\n",
      " [1 2 3]\n",
      " [7 8 9]] \n",
      "\n",
      "[[1 2 3]\n",
      " [4 5 6]\n",
      " [7 8 9]\n",
      " [3 2 1]]\n"
     ]
    }
   ],
   "source": [
    "from qiskit_qec.linear.matrix import do_row_op\n",
    "\n",
    "mat = np.array([[1, 2, 3], [4, 5, 6], [7, 8, 9]])\n",
    "N = 4\n",
    "print(mat, \"\\n\")\n",
    "\n",
    "# Swap rows 0 and 1\n",
    "mat1 = do_row_op(mat, (\"swap\", [0, 1], []), N)\n",
    "print(mat1, \"\\n\")\n",
    "\n",
    "# Append the product of row 0 by a scalar (3) to the end of matrix\n",
    "mat2 = do_row_op(mat, (\"append\", [0], [3]), N)\n",
    "print(mat2)"
   ]
  },
  {
   "cell_type": "markdown",
   "metadata": {
    "slideshow": {
     "slide_type": "slide"
    }
   },
   "source": [
    "The Howell transformation comes in two functions: \n",
    "- `howell`: outputs just the Howell matrix $H$ for a given matrix $A$\n",
    "- `howell_complete`, outputs the Howell matrix $H$, the corresponding transformation matrix $U$ s.t. $UA = H$, and the kernel matrix $K$ s.t. $KA = 0$.\n",
    "\n",
    "This is similar to the design of RREF in Qiskit-QEC (`rref` & `rref_complete`)."
   ]
  },
  {
   "cell_type": "code",
   "execution_count": 18,
   "metadata": {
    "slideshow": {
     "slide_type": "subslide"
    }
   },
   "outputs": [
    {
     "name": "stdout",
     "output_type": "stream",
     "text": [
      "[[4 1 0]\n",
      " [0 3 0]\n",
      " [0 0 1]] \n",
      "\n",
      "[[4 1 0]\n",
      " [0 3 0]\n",
      " [0 0 1]] \n",
      "\n",
      "[[8 1 0]\n",
      " [0 7 4]\n",
      " [9 3 4]] \n",
      "\n",
      "[[6 6 3]\n",
      " [0 4 4]]\n"
     ]
    }
   ],
   "source": [
    "from qiskit_qec.linear.matrix import howell, howell_complete\n",
    "\n",
    "mat = np.array([[8, 5, 5], [0, 9, 8], [0, 0, 10]])\n",
    "N = 12\n",
    "howell_mat = howell(mat, N)\n",
    "print(howell_mat, \"\\n\")\n",
    "\n",
    "howell_mat, transform_mat, kernel_mat = howell_complete(mat, N)\n",
    "print(howell_mat, \"\\n\")\n",
    "print(transform_mat, \"\\n\")\n",
    "print(kernel_mat)"
   ]
  },
  {
   "cell_type": "markdown",
   "metadata": {
    "slideshow": {
     "slide_type": "slide"
    }
   },
   "source": [
    "## Final Remarks\n",
    "\n",
    "The implementations introduced above are included in PR [#281](https://github.com/qiskit-community/qiskit-qec/pull/281), [#304](https://github.com/qiskit-community/qiskit-qec/pull/304), and [#279](https://github.com/qiskit-community/qiskit-qec/pull/279).\n",
    "\n",
    "<div align=\"center\">\n",
    "<img src=\"img/pr_281.png\" width=\"800\"/>\n",
    "</div>"
   ]
  },
  {
   "cell_type": "markdown",
   "metadata": {
    "slideshow": {
     "slide_type": "subslide"
    }
   },
   "source": [
    "<div align=\"center\">\n",
    "<img src=\"img/pr_304.png\" width=\"800\"/>\n",
    "</div>"
   ]
  },
  {
   "cell_type": "markdown",
   "metadata": {
    "slideshow": {
     "slide_type": "subslide"
    }
   },
   "source": [
    "<div align=\"center\">\n",
    "<img src=\"img/pr_279.png\" width=\"800\"/>\n",
    "</div>"
   ]
  },
  {
   "cell_type": "markdown",
   "metadata": {
    "slideshow": {
     "slide_type": "slide"
    }
   },
   "source": [
    "I would like to thank Grace Haper and Drew Vandeth from IBM for such a great opportunity and their mentoring and feedbacks. I would also like to thank Dhruv Bhatnagar for the collaboration on this fun project."
   ]
  }
 ],
 "metadata": {
  "celltoolbar": "Slideshow",
  "kernelspec": {
   "display_name": "Python 3 (ipykernel)",
   "language": "python",
   "name": "python3"
  },
  "language_info": {
   "codemirror_mode": {
    "name": "ipython",
    "version": 3
   },
   "file_extension": ".py",
   "mimetype": "text/x-python",
   "name": "python",
   "nbconvert_exporter": "python",
   "pygments_lexer": "ipython3",
   "version": "3.8.8"
  },
  "vscode": {
   "interpreter": {
    "hash": "8ac8791268cffba13781e49ad79dbf4475109532bcd8387da4ddcae389ec758f"
   }
  }
 },
 "nbformat": 4,
 "nbformat_minor": 2
}
