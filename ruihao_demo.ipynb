{
 "cells": [
  {
   "attachments": {},
   "cell_type": "markdown",
   "metadata": {},
   "source": [
    "# QAMP-15: Building out Qiskit-QEC with the XP Stabilizer Formalism\n",
    "\n",
    "Members: Dhruv Bhatnagar, __Ruihao Li__\n",
    "\n",
    "Mentors: Grace Harper, Drew Vandeth (IBM)\n",
    "\n",
    "Implementation based on the following work: <br>\n",
    "M. A. Webster, B. J. Brown, and S. D. Bartlett, The XP Stabiliser Formalism: a Generalisation of the Pauli Stabiliser Formalism with Arbitrary Phases. *Quantum* __6__, 815 (2022)."
   ]
  },
  {
   "attachments": {},
   "cell_type": "markdown",
   "metadata": {},
   "source": [
    "## Setting things up"
   ]
  },
  {
   "cell_type": "code",
   "execution_count": 4,
   "metadata": {},
   "outputs": [
    {
     "name": "stdout",
     "output_type": "stream",
     "text": [
      "fatal: destination path '/Users/ruihaoli/qiskit-qec' already exists and is not an empty directory.\n"
     ]
    }
   ],
   "source": [
    "!git clone --branch qamp-qiskit-demodays https://github.com/qiskit-community/qiskit-qec.git /Users/ruihaoli/qiskit-qec"
   ]
  },
  {
   "cell_type": "code",
   "execution_count": 5,
   "metadata": {},
   "outputs": [
    {
     "name": "stdout",
     "output_type": "stream",
     "text": [
      "/Users/ruihaoli/qiskit-qec\n"
     ]
    }
   ],
   "source": [
    "%cd ../qiskit-qec"
   ]
  },
  {
   "cell_type": "code",
   "execution_count": 6,
   "metadata": {},
   "outputs": [
    {
     "name": "stdout",
     "output_type": "stream",
     "text": [
      "Requirement already satisfied: qiskit-terra>=0.21.2 in /Users/ruihaoli/opt/miniconda3/envs/qiskit/lib/python3.8/site-packages (from -r requirements.txt (line 1)) (0.22.3)\n",
      "Requirement already satisfied: qiskit-aer>=0.11.0 in /Users/ruihaoli/opt/miniconda3/envs/qiskit/lib/python3.8/site-packages (from -r requirements.txt (line 2)) (0.11.2)\n",
      "Requirement already satisfied: pybind11<=2.9.1 in /Users/ruihaoli/opt/miniconda3/envs/qiskit/lib/python3.8/site-packages (from -r requirements.txt (line 3)) (2.9.1)\n",
      "Requirement already satisfied: PyMatching!=2.0.0,>=0.6.0 in /Users/ruihaoli/opt/miniconda3/envs/qiskit/lib/python3.8/site-packages (from -r requirements.txt (line 4)) (2.0.1)\n",
      "Requirement already satisfied: rustworkx>=0.11.0 in /Users/ruihaoli/opt/miniconda3/envs/qiskit/lib/python3.8/site-packages (from -r requirements.txt (line 5)) (0.12.1)\n",
      "Requirement already satisfied: networkx>=2.6.3 in /Users/ruihaoli/opt/miniconda3/envs/qiskit/lib/python3.8/site-packages (from -r requirements.txt (line 6)) (2.8.8)\n",
      "Requirement already satisfied: sympy>=1.9 in /Users/ruihaoli/opt/miniconda3/envs/qiskit/lib/python3.8/site-packages (from -r requirements.txt (line 7)) (1.11.1)\n",
      "Requirement already satisfied: numpy>=1.21.0 in /Users/ruihaoli/opt/miniconda3/envs/qiskit/lib/python3.8/site-packages (from -r requirements.txt (line 8)) (1.23.5)\n",
      "Requirement already satisfied: stevedore>=3.0.0 in /Users/ruihaoli/opt/miniconda3/envs/qiskit/lib/python3.8/site-packages (from qiskit-terra>=0.21.2->-r requirements.txt (line 1)) (4.1.1)\n",
      "Requirement already satisfied: retworkx>=0.11.0 in /Users/ruihaoli/opt/miniconda3/envs/qiskit/lib/python3.8/site-packages (from qiskit-terra>=0.21.2->-r requirements.txt (line 1)) (0.12.1)\n",
      "Requirement already satisfied: ply>=3.10 in /Users/ruihaoli/opt/miniconda3/envs/qiskit/lib/python3.8/site-packages (from qiskit-terra>=0.21.2->-r requirements.txt (line 1)) (3.11)\n",
      "Requirement already satisfied: scipy>=1.5 in /Users/ruihaoli/opt/miniconda3/envs/qiskit/lib/python3.8/site-packages (from qiskit-terra>=0.21.2->-r requirements.txt (line 1)) (1.9.3)\n",
      "Requirement already satisfied: python-dateutil>=2.8.0 in /Users/ruihaoli/opt/miniconda3/envs/qiskit/lib/python3.8/site-packages (from qiskit-terra>=0.21.2->-r requirements.txt (line 1)) (2.8.2)\n",
      "Requirement already satisfied: dill>=0.3 in /Users/ruihaoli/opt/miniconda3/envs/qiskit/lib/python3.8/site-packages (from qiskit-terra>=0.21.2->-r requirements.txt (line 1)) (0.3.6)\n",
      "Requirement already satisfied: psutil>=5 in /Users/ruihaoli/opt/miniconda3/envs/qiskit/lib/python3.8/site-packages (from qiskit-terra>=0.21.2->-r requirements.txt (line 1)) (5.9.4)\n",
      "Requirement already satisfied: symengine>=0.9 in /Users/ruihaoli/opt/miniconda3/envs/qiskit/lib/python3.8/site-packages (from qiskit-terra>=0.21.2->-r requirements.txt (line 1)) (0.9.2)\n",
      "Requirement already satisfied: matplotlib in /Users/ruihaoli/opt/miniconda3/envs/qiskit/lib/python3.8/site-packages (from PyMatching!=2.0.0,>=0.6.0->-r requirements.txt (line 4)) (3.6.2)\n",
      "Requirement already satisfied: mpmath>=0.19 in /Users/ruihaoli/opt/miniconda3/envs/qiskit/lib/python3.8/site-packages (from sympy>=1.9->-r requirements.txt (line 7)) (1.2.1)\n",
      "Requirement already satisfied: six>=1.5 in /Users/ruihaoli/opt/miniconda3/envs/qiskit/lib/python3.8/site-packages (from python-dateutil>=2.8.0->qiskit-terra>=0.21.2->-r requirements.txt (line 1)) (1.16.0)\n",
      "Requirement already satisfied: pbr!=2.1.0,>=2.0.0 in /Users/ruihaoli/opt/miniconda3/envs/qiskit/lib/python3.8/site-packages (from stevedore>=3.0.0->qiskit-terra>=0.21.2->-r requirements.txt (line 1)) (5.11.0)\n",
      "Requirement already satisfied: fonttools>=4.22.0 in /Users/ruihaoli/opt/miniconda3/envs/qiskit/lib/python3.8/site-packages (from matplotlib->PyMatching!=2.0.0,>=0.6.0->-r requirements.txt (line 4)) (4.38.0)\n",
      "Requirement already satisfied: contourpy>=1.0.1 in /Users/ruihaoli/opt/miniconda3/envs/qiskit/lib/python3.8/site-packages (from matplotlib->PyMatching!=2.0.0,>=0.6.0->-r requirements.txt (line 4)) (1.0.6)\n",
      "Requirement already satisfied: kiwisolver>=1.0.1 in /Users/ruihaoli/opt/miniconda3/envs/qiskit/lib/python3.8/site-packages (from matplotlib->PyMatching!=2.0.0,>=0.6.0->-r requirements.txt (line 4)) (1.4.4)\n",
      "Requirement already satisfied: pyparsing>=2.2.1 in /Users/ruihaoli/opt/miniconda3/envs/qiskit/lib/python3.8/site-packages (from matplotlib->PyMatching!=2.0.0,>=0.6.0->-r requirements.txt (line 4)) (3.0.9)\n",
      "Requirement already satisfied: pillow>=6.2.0 in /Users/ruihaoli/opt/miniconda3/envs/qiskit/lib/python3.8/site-packages (from matplotlib->PyMatching!=2.0.0,>=0.6.0->-r requirements.txt (line 4)) (9.3.0)\n",
      "Requirement already satisfied: packaging>=20.0 in /Users/ruihaoli/opt/miniconda3/envs/qiskit/lib/python3.8/site-packages (from matplotlib->PyMatching!=2.0.0,>=0.6.0->-r requirements.txt (line 4)) (21.3)\n",
      "Requirement already satisfied: cycler>=0.10 in /Users/ruihaoli/opt/miniconda3/envs/qiskit/lib/python3.8/site-packages (from matplotlib->PyMatching!=2.0.0,>=0.6.0->-r requirements.txt (line 4)) (0.11.0)\n"
     ]
    }
   ],
   "source": [
    "!pip install -r requirements.txt"
   ]
  },
  {
   "attachments": {},
   "cell_type": "markdown",
   "metadata": {},
   "source": [
    "## XP Operator Algebra"
   ]
  },
  {
   "attachments": {},
   "cell_type": "markdown",
   "metadata": {},
   "source": [
    "The XP operator algebra is a fundamental building block of the XP stabilizer formalism. Here we show how to express algebraic operations in terms of the vector representation and the generalized symplectic product. We also introduce the concepts of the degree and fundamental phase of XP operators. These concepts allow us to determine the eigenvalues and actions of the projectors of XP operators.\n",
    "\n",
    "In the Pauli stabilizer formalism, one represents operators with the _symplectic representation_, i.e., with binary/boolean vectors $(\\mathbf{x}, \\mathbf{z})$ and a boolean phase $p$. Such representation is naturally generalized in the XP formalism.\n",
    "\n",
    "Let $\\mathbf{u} = (p | \\mathbf{x} | \\mathbf{z}) \\in \\mathbb Z\\times \\mathbb Z^n\\times \\mathbb Z^n$ be an integer vector of length $2n+1$. Recall that the XP operator of precision $N$ corresponding to $\\mathbf{u}$ is defined as\n",
    "$$\n",
    "XP_N(\\mathbf{u}) = \\omega^p \\bigotimes_{0\\leq i < n} X^{\\mathbf{x}_i} P^{\\mathbf{z}_i},\n",
    "$$\n",
    "where\n",
    "$$\n",
    "\\begin{split}\n",
    "\\omega &= \\exp\\left(\\frac{\\pi i}{N}\\right), \\\\\n",
    "P &= \\text{diag}(1, \\omega^2). \\\\\n",
    "\\end{split}\n",
    "$$\n",
    "Note that each component is periodic such that\n",
    "$$\n",
    "XP_N(p | \\mathbf{x} | \\mathbf{z}) = XP_N(p\\ \\text{mod}\\ 2N | \\mathbf{x}\\ \\text{mod}\\ 2 | \\mathbf{z}\\ \\text{mod}\\ N).\n",
    "$$\n",
    "Therfore, we can define a __unique vector representation__ $(p | \\mathbf{x} | \\mathbf{z}) \\in \\mathbb Z_{2N}\\times \\mathbb Z^n_{2}\\times \\mathbb Z^n_N$ for each XP operator."
   ]
  },
  {
   "cell_type": "code",
   "execution_count": 13,
   "metadata": {},
   "outputs": [],
   "source": [
    "import numpy as np\n",
    "from qiskit_qec.operators.xp_pauli import XPPauli\n",
    "from qiskit_qec.operators.xp_pauli_list import XPPauliList"
   ]
  },
  {
   "cell_type": "code",
   "execution_count": 21,
   "metadata": {},
   "outputs": [
    {
     "name": "stdout",
     "output_type": "stream",
     "text": [
      "[[0 1 1 2 0 3]]\n",
      "[0 1 1]\n",
      "[2 0 3]\n",
      "[3]\n"
     ]
    }
   ],
   "source": [
    "# XPPauli object\n",
    "a = XPPauli(data=np.array([0, 3, 1, 6, 4, 3], dtype=np.int64), phase_exp=11, precision=4)\n",
    "unique_a = a.unique_vector_rep()\n",
    "print(unique_a.matrix)\n",
    "print(unique_a.x)\n",
    "print(unique_a.z)\n",
    "print(unique_a._phase_exp)"
   ]
  },
  {
   "cell_type": "code",
   "execution_count": 18,
   "metadata": {},
   "outputs": [
    {
     "name": "stdout",
     "output_type": "stream",
     "text": [
      "[[1 0 1 1 5 3 5 4]\n",
      " [1 0 1 0 1 5 2 0]]\n",
      "[4 7]\n"
     ]
    }
   ],
   "source": [
    "# XPPauliList object\n",
    "b = XPPauliList(\n",
    "    data=np.array([[1, 0, 1, 1, 5, 3, 5, 4], [1, 0, 1, 0, 1, 5, 2, 0]], dtype=np.int64),\n",
    "    phase_exp=np.array([4, 7]),\n",
    "    precision=6,\n",
    ")\n",
    "unique_b = b.unique_vector_rep()\n",
    "print(unique_b.matrix)\n",
    "print(unique_b._phase_exp)"
   ]
  },
  {
   "attachments": {},
   "cell_type": "markdown",
   "metadata": {},
   "source": [
    "When possible, we can also rescale the vector representation of an XP operator to one with a different precision $N'$. For example, for $XP_8(12|1110000|0040000)$, since the phase and $Z$ components are divisible by 4, we can rescale it to a precision-2 operator:\n",
    "$$\n",
    "XP_8(12|1110000|0040000) = XP_2(3|1110000|0010000).\n",
    "$$"
   ]
  },
  {
   "cell_type": "code",
   "execution_count": 19,
   "metadata": {},
   "outputs": [
    {
     "name": "stdout",
     "output_type": "stream",
     "text": [
      "[[1 1 1 0 0 0 0 0 0 1 0 0 0 0]]\n",
      "[3]\n"
     ]
    }
   ],
   "source": [
    "a = XPPauli(data=np.array([1, 1, 1, 0, 0, 0, 0, 0, 0, 4, 0, 0, 0, 0]), phase_exp=12, precision=8)\n",
    "rescaled_a =  a.rescale_precision(new_precision=2, inplace=False)\n",
    "print(rescaled_a.matrix)\n",
    "print(rescaled_a._phase_exp)"
   ]
  },
  {
   "cell_type": "code",
   "execution_count": 20,
   "metadata": {},
   "outputs": [
    {
     "ename": "QiskitError",
     "evalue": "'XP Operator cannot be expressed in new_precision.'",
     "output_type": "error",
     "traceback": [
      "\u001b[0;31m---------------------------------------------------------------------------\u001b[0m",
      "\u001b[0;31mQiskitError\u001b[0m                               Traceback (most recent call last)",
      "Cell \u001b[0;32mIn[20], line 1\u001b[0m\n\u001b[0;32m----> 1\u001b[0m a\u001b[39m.\u001b[39;49mrescale_precision(new_precision\u001b[39m=\u001b[39;49m\u001b[39m3\u001b[39;49m, inplace\u001b[39m=\u001b[39;49m\u001b[39mFalse\u001b[39;49;00m)\n",
      "File \u001b[0;32m~/qiskit-qec/qiskit_qec/operators/xp_pauli.py:267\u001b[0m, in \u001b[0;36mXPPauli.rescale_precision\u001b[0;34m(self, new_precision, inplace)\u001b[0m\n\u001b[1;32m    232\u001b[0m \u001b[39mdef\u001b[39;00m \u001b[39mrescale_precision\u001b[39m(\u001b[39mself\u001b[39m, new_precision: \u001b[39mint\u001b[39m, inplace: \u001b[39mbool\u001b[39m \u001b[39m=\u001b[39m \u001b[39mFalse\u001b[39;00m) \u001b[39m-\u001b[39m\u001b[39m>\u001b[39m \u001b[39m\"\u001b[39m\u001b[39mXPPauli\u001b[39m\u001b[39m\"\u001b[39m:\n\u001b[1;32m    233\u001b[0m     \u001b[39m\"\"\"Rescale the generalized symplectic vector components\u001b[39;00m\n\u001b[1;32m    234\u001b[0m \u001b[39m    of XPPauli operator to the new precision. Returns the rescaled XPPauli object.\u001b[39;00m\n\u001b[1;32m    235\u001b[0m \n\u001b[0;32m   (...)\u001b[0m\n\u001b[1;32m    265\u001b[0m \u001b[39m        _rescale_precision\u001b[39;00m\n\u001b[1;32m    266\u001b[0m \u001b[39m    \"\"\"\u001b[39;00m\n\u001b[0;32m--> 267\u001b[0m     \u001b[39mreturn\u001b[39;00m XPPauli(\u001b[39msuper\u001b[39;49m()\u001b[39m.\u001b[39;49mrescale_precision(new_precision, inplace))\n",
      "File \u001b[0;32m~/qiskit-qec/qiskit_qec/operators/base_xp_pauli.py:796\u001b[0m, in \u001b[0;36mBaseXPPauli.rescale_precision\u001b[0;34m(self, new_precision, inplace)\u001b[0m\n\u001b[1;32m    790\u001b[0m     \u001b[39mraise\u001b[39;00m QiskitError(\u001b[39m\"\u001b[39m\u001b[39mXP Operator cannot be expressed in new_precision.\u001b[39m\u001b[39m\"\u001b[39m)\n\u001b[1;32m    791\u001b[0m \u001b[39mif\u001b[39;00m (new_precision \u001b[39m<\u001b[39m old_precision) \u001b[39mand\u001b[39;00m (\n\u001b[1;32m    792\u001b[0m     (old_precision \u001b[39m%\u001b[39m new_precision \u001b[39m>\u001b[39m \u001b[39m0\u001b[39m)\n\u001b[1;32m    793\u001b[0m     \u001b[39mor\u001b[39;00m (np\u001b[39m.\u001b[39msum(np\u001b[39m.\u001b[39mmod(unique_xp_op\u001b[39m.\u001b[39m_phase_exp, scale_factor)) \u001b[39m>\u001b[39m \u001b[39m0\u001b[39m)\n\u001b[1;32m    794\u001b[0m     \u001b[39mor\u001b[39;00m (np\u001b[39m.\u001b[39msum(np\u001b[39m.\u001b[39mmod(unique_xp_op\u001b[39m.\u001b[39mz, scale_factor)) \u001b[39m>\u001b[39m \u001b[39m0\u001b[39m)\n\u001b[1;32m    795\u001b[0m ):\n\u001b[0;32m--> 796\u001b[0m     \u001b[39mraise\u001b[39;00m QiskitError(\u001b[39m\"\u001b[39m\u001b[39mXP Operator cannot be expressed in new_precision.\u001b[39m\u001b[39m\"\u001b[39m)\n\u001b[1;32m    798\u001b[0m \u001b[39mreturn\u001b[39;00m \u001b[39mself\u001b[39m\u001b[39m.\u001b[39m_rescale_precision(new_precision, inplace)\n",
      "\u001b[0;31mQiskitError\u001b[0m: 'XP Operator cannot be expressed in new_precision.'"
     ]
    }
   ],
   "source": [
    "# Case where it is not possible to rescale\n",
    "a.rescale_precision(new_precision=3, inplace=False)"
   ]
  },
  {
   "attachments": {},
   "cell_type": "markdown",
   "metadata": {},
   "source": [
    "One important algebraic operation is __multiplication__ of two XP operators. To properly define the multiplication rule, we first introduce the __antisymmetric operator__ of precision $N$ corresponding to a vector $\\mathbf{z}\\in \\mathbb Z^n$:\n",
    "$$\n",
    "D_{N}(\\mathbf{z}) = XP_N(\\sum_i \\mathbf{z}_i | \\mathbf{0} | -\\mathbf{z}).\n",
    "$$"
   ]
  },
  {
   "cell_type": "code",
   "execution_count": 23,
   "metadata": {},
   "outputs": [
    {
     "name": "stdout",
     "output_type": "stream",
     "text": [
      "[[ 0  0  0  0 -1 -2 -3 -3]]\n",
      "[9]\n"
     ]
    }
   ],
   "source": [
    "a = XPPauli(data=np.array([1, 1, 2, 2, 1, 2, 3, 3]), phase_exp=0, precision=8)\n",
    "antisym_op = a.antisymmetric_op(int_vec=a.z)\n",
    "print(antisym_op.matrix)\n",
    "print(antisym_op._phase_exp)"
   ]
  },
  {
   "attachments": {},
   "cell_type": "markdown",
   "metadata": {},
   "source": [
    "Then the product of two XP operators in vector form is given by\n",
    "$$\n",
    "XP_N(\\mathbf{u}_1) XP_N(\\mathbf{u}_2) = XP_N(\\mathbf{u}_1 + \\mathbf{u}_2) D_N(2\\mathbf{u}_1 \\mathbf{u}_2),\n",
    "$$\n",
    "where in this notation the arithmetic operations on vectors are component-wise in $\\mathbb Z$, i.e.,\n",
    "$$\n",
    "\\begin{split}\n",
    "(\\mathbf a + \\mathbf b)[i] &= \\mathbf a[i] + \\mathbf b[i], \\\\\n",
    "(\\mathbf a \\mathbf b)[i] &= \\mathbf a[i] \\mathbf b[i].\n",
    "\\end{split}\n",
    "$$\n",
    "\n",
    "In Qiskit-QEC, the multiplication operation is called `compose`."
   ]
  },
  {
   "cell_type": "code",
   "execution_count": 25,
   "metadata": {},
   "outputs": [
    {
     "name": "stdout",
     "output_type": "stream",
     "text": [
      "[[1 0 1 3 3 0]]\n",
      "[6]\n"
     ]
    }
   ],
   "source": [
    "a = XPPauli(data=np.array([0, 1, 0, 0, 2, 0]), phase_exp=6, precision=4)\n",
    "b = XPPauli(data=np.array([1, 1, 1, 3, 3, 0]), phase_exp=2, precision=4)\n",
    "product = a.compose(b, inplace=False)\n",
    "print(product.matrix)\n",
    "print(product._phase_exp)"
   ]
  },
  {
   "cell_type": "code",
   "execution_count": 26,
   "metadata": {},
   "outputs": [
    {
     "name": "stdout",
     "output_type": "stream",
     "text": [
      "[[0 0 1 0 1 4 5 3]\n",
      " [1 1 0 0 0 2 2 5]]\n",
      "[ 1 11]\n"
     ]
    }
   ],
   "source": [
    "# Multiplying two XPPauliList objects\n",
    "a = XPPauliList(data=np.array([[1, 0, 1, 1, 5, 3, 5, 4], [1, 0, 1, 0, 1, 5, 2, 0]]), phase_exp=np.array([4, 7]), precision=6)\n",
    "b = XPPauliList(data=np.array([[1, 0, 0, 1, 4, 1, 0, 1], [0, 1, 1, 0, 1, 3, 0, 5]]), phase_exp=np.array([11, 2]), precision=6)\n",
    "product = a.compose(b, inplace=False)\n",
    "print(product.matrix)\n",
    "print(product._phase_exp)"
   ]
  },
  {
   "cell_type": "code",
   "execution_count": null,
   "metadata": {},
   "outputs": [],
   "source": []
  }
 ],
 "metadata": {
  "kernelspec": {
   "display_name": "qiskit",
   "language": "python",
   "name": "python3"
  },
  "language_info": {
   "codemirror_mode": {
    "name": "ipython",
    "version": 3
   },
   "file_extension": ".py",
   "mimetype": "text/x-python",
   "name": "python",
   "nbconvert_exporter": "python",
   "pygments_lexer": "ipython3",
   "version": "3.8.15"
  },
  "orig_nbformat": 4,
  "vscode": {
   "interpreter": {
    "hash": "8ac8791268cffba13781e49ad79dbf4475109532bcd8387da4ddcae389ec758f"
   }
  }
 },
 "nbformat": 4,
 "nbformat_minor": 2
}
